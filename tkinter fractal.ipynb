{
 "cells": [
  {
   "cell_type": "code",
   "execution_count": 7,
   "metadata": {},
   "outputs": [],
   "source": [
    "import numpy as np\n",
    "import matplotlib.pyplot as plt\n",
    "from tkinter import *\n",
    "from matplotlib.backends.backend_tkagg import (FigureCanvasTkAgg,  \n",
    "NavigationToolbar2Tk) "
   ]
  },
  {
   "cell_type": "code",
   "execution_count": 8,
   "metadata": {},
   "outputs": [
    {
     "ename": "SyntaxError",
     "evalue": "cannot assign to operator (<ipython-input-8-ccf06f7ad0a2>, line 1)",
     "output_type": "error",
     "traceback": [
      "\u001b[1;36m  File \u001b[1;32m\"<ipython-input-8-ccf06f7ad0a2>\"\u001b[1;36m, line \u001b[1;32m1\u001b[0m\n\u001b[1;33m    realBounds=(-0.22, -0.219), imagBounds=(-0.7,-0.699)\u001b[0m\n\u001b[1;37m               ^\u001b[0m\n\u001b[1;31mSyntaxError\u001b[0m\u001b[1;31m:\u001b[0m cannot assign to operator\n"
     ]
    }
   ],
   "source": [
    "realBounds=(-0.22, -0.219), imagBounds=(-0.7,-0.699)"
   ]
  },
  {
   "cell_type": "code",
   "execution_count": 9,
   "metadata": {},
   "outputs": [],
   "source": [
    "# counts the number of iterations until the function diverges or\n",
    "# returns the iteration threshold that we check until\n",
    "def countIterationsUntilDivergent(c, threshold):\n",
    "    z = complex(0, 0)\n",
    "    for iteration in range(threshold):\n",
    "        z = (z*z) + c\n",
    "        if abs(z) > 4:\n",
    "            break\n",
    "            pass\n",
    "        pass\n",
    "    return iteration\n",
    "# takes the iteration limit before declaring function as convergent and\n",
    "# takes the density of the atlas\n",
    "\n",
    "# create atlas, plot mandelbrot set, display set\n",
    "def mandelbrot(threshold, density, zoomLevel=0, zoomFocus=(121.38500005/300,121.3805/300), realBounds=(-2.25, 0.75), imagBounds=(-1.5,1.5)):\n",
    "    # location and size of the atlas rectangle\n",
    "    # realAxis = np.linspace(-2.25, 0.75, density)\n",
    "    # imaginaryAxis = np.linspace(-1.5, 1.5, density)\n",
    "    \n",
    "    zoomFac = 2 #speed of the zoom\n",
    "    \n",
    "    # Get the zoom box\n",
    "    if zoomLevel==0:\n",
    "        realZoomBounds = realBounds\n",
    "        imagZoomBounds = imagBounds\n",
    "    else:\n",
    "        realWidth = (realBounds[1] - realBounds[0])\n",
    "        realCenter = realWidth * zoomFocus[0] + realBounds[0]\n",
    "        realZoomWidth = realWidth / (zoomFac**(zoomLevel - 1))\n",
    "        realZoomBounds = (realCenter-realZoomWidth/2, realCenter+realZoomWidth/2)\n",
    "\n",
    "        imagWidth = (imagBounds[1] - imagBounds[0])\n",
    "        imagCenter = imagWidth * zoomFocus[1] + imagBounds[0]\n",
    "        imagZoomWidth = imagWidth / (zoomFac**(zoomLevel - 1))\n",
    "        imagZoomBounds = (imagCenter-imagZoomWidth/2, imagCenter+imagZoomWidth/2)\n",
    "        \n",
    "    \n",
    "    realAxis = np.linspace(realZoomBounds[0], realZoomBounds[1], density)\n",
    "    imaginaryAxis = np.linspace(imagZoomBounds[0], imagZoomBounds[1], density)\n",
    "    realAxisLen = len(realAxis)\n",
    "    imaginaryAxisLen = len(imaginaryAxis)\n",
    "    # 2-D array to represent mandelbrot atlas\n",
    "    atlas = np.empty((realAxisLen, imaginaryAxisLen))\n",
    "    # color each point in the atlas depending on the iteration count\n",
    "    for ix in range(realAxisLen):\n",
    "        for iy in range(imaginaryAxisLen):\n",
    "            cx = realAxis[ix]\n",
    "            cy = imaginaryAxis[iy]\n",
    "            c = complex(cx, cy)\n",
    "            atlas[ix, iy] = countIterationsUntilDivergent(c, threshold)\n",
    "            pass\n",
    "        pass\n",
    "    f = plt.Figure()\n",
    "    a = f.add_subplot(111)\n",
    "\n",
    "    # plot and display mandelbrot set\n",
    "    a.imshow(np.log(atlas.T), interpolation=\"nearest\", cmap=plt.get_cmap('plasma'))\n",
    "    return f"
   ]
  },
  {
   "cell_type": "code",
   "execution_count": 10,
   "metadata": {},
   "outputs": [
    {
     "data": {
      "image/png": "[encoded data removed]",
      "text/plain": [
       "<Figure size 432x288 with 1 Axes>"
      ]
     },
     "execution_count": 10,
     "metadata": {},
     "output_type": "execute_result"
    }
   ],
   "source": [
    "#### time to party!!\n",
    "mandelbrot(120,300,zoomFocus=(121.38500005/300,121.3805/300),zoomLevel=0)"
   ]
  },
  {
   "cell_type": "code",
   "execution_count": 11,
   "metadata": {},
   "outputs": [],
   "source": [
    "zoomCounter = 0 \n",
    "def zoom_plus(): # without event because I use `command=` instead of `bind`\n",
    "    global zoomCounter\n",
    "    zoomCounter = zoomCounter + 1\n",
    "    \n",
    "    plot_mandelbrot()\n",
    "    \n",
    "\n",
    "def zoom_minus(): # without event because I use `command=` instead of `bind`\n",
    "    global zoomCounter\n",
    "    zoomCounter = zoomCounter - 1\n",
    "    if zoomCounter < 0:\n",
    "        zoomCounter = 0\n",
    "\n",
    "    plot_mandelbrot()\n",
    "    \n",
    "    \n",
    "def close_window():\n",
    "    window.destroy()\n",
    "    \n",
    "def plot_mandelbrot():\n",
    "    global zoomCounter\n",
    "    \n",
    "    f = mandelbrot(150,300,zoomLevel=zoomCounter)\n",
    "    \n",
    "    # creating the Tkinter canvas \n",
    "    # containing the Matplotlib figure \n",
    "    canvas = FigureCanvasTkAgg(f,master = window)   \n",
    "    canvas.draw() \n",
    "  \n",
    "    # placing the canvas on the Tkinter window \n",
    "    canvas.get_tk_widget().grid(row=4,columnspan=2) \n",
    "  \n",
    "    ## creating the Matplotlib toolbar \n",
    "    #toolbar = NavigationToolbar2Tk(canvas, \n",
    "    #                               window) \n",
    "    #toolbar.update() \n",
    "  \n",
    "    # placing the toolbar on the Tkinter window \n",
    "    #canvas.get_tk_widget().grid(row=3,columnspan=2) "
   ]
  },
  {
   "cell_type": "code",
   "execution_count": 16,
   "metadata": {},
   "outputs": [],
   "source": [
    "global zoomCounter\n",
    "zoomCounter = 0\n",
    "\n",
    "window = Tk()\n",
    "window.title(\"Fractals\")\n",
    "window.configure(background=\"black\")\n",
    "\n",
    "label1 = Label (window, text= \"Choose Fractal Type:\", \\\n",
    "                bg=\"black\", fg=\"white\", font=\"none 20 bold\").grid(row=0, column=0, columnspan=2, sticky=E)\n",
    "\n",
    "buttonJ = Button(window,text = 'Julia', command=close_window).grid(row=1, column=0)\n",
    "buttonM = Button(window,text = 'mandlebrot', command=plot_mandelbrot).grid(row=1, column=1)\n",
    "\n",
    "buttonplus = Button(window, text = '+', command=zoom_plus).grid(row=1, column=2)\n",
    "buttonminus = Button(window, text = '-', command=zoom_minus).grid(row=2, column=2)\n",
    "\n",
    "#canvas = FigureCanvasTkAgg(f, master=window)\n",
    "#canvas.draw()\n",
    "#canvas.get_tk_widget().pack(side=\"top\", fill=\"both\", expand=1)\n",
    "#canvas._tkcanvas.pack(side=\"top\", fill=\"both\", expand=1)\n",
    "\n",
    "window.mainloop()"
   ]
  },
  {
   "cell_type": "code",
   "execution_count": null,
   "metadata": {},
   "outputs": [],
   "source": []
  }
 ],
 "metadata": {
  "kernelspec": {
   "display_name": "Python 3",
   "language": "python",
   "name": "python3"
  },
  "language_info": {
   "codemirror_mode": {
    "name": "ipython",
    "version": 3
   },
   "file_extension": ".py",
   "mimetype": "text/x-python",
   "name": "python",
   "nbconvert_exporter": "python",
   "pygments_lexer": "ipython3",
   "version": "3.8.5"
  }
 },
 "nbformat": 4,
 "nbformat_minor": 4
}
